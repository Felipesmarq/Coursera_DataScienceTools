{
  "nbformat": 4,
  "nbformat_minor": 0,
  "metadata": {
    "colab": {
      "provenance": [],
      "authorship_tag": "ABX9TyN2trNhHe4lSzHNNoQPgB26",
      "include_colab_link": true
    },
    "kernelspec": {
      "name": "python3",
      "display_name": "Python 3"
    },
    "language_info": {
      "name": "python"
    }
  },
  "cells": [
    {
      "cell_type": "markdown",
      "metadata": {
        "id": "view-in-github",
        "colab_type": "text"
      },
      "source": [
        "<a href=\"https://colab.research.google.com/github/Felipesmarq/Coursera_DataScienceTools/blob/main/DataScienceEcosystem.ipynb\" target=\"_parent\"><img src=\"https://colab.research.google.com/assets/colab-badge.svg\" alt=\"Open In Colab\"/></a>"
      ]
    },
    {
      "cell_type": "markdown",
      "source": [
        "# Data Science Tools and Ecosystem"
      ],
      "metadata": {
        "id": "4toGQWWwMqaK"
      }
    },
    {
      "cell_type": "markdown",
      "source": [
        "### In this notebook, Data Science Tools and Ecosystem are summarized."
      ],
      "metadata": {
        "id": "rbg09tg5NMJG"
      }
    },
    {
      "cell_type": "markdown",
      "source": [
        "## **Objectives:**\n",
        "* Define some of the popular languages in Data Science\n",
        "* Define some of the popular libraries in Data Science\n",
        "* List some OpenSource tools for Data Science\n"
      ],
      "metadata": {
        "id": "gJ4qbkY7SWiA"
      }
    },
    {
      "cell_type": "markdown",
      "source": [
        "## Some of the popular languages that Data Scientists use are:\n",
        "#### 1. Python\n",
        "#### 2. R\n",
        "#### 3. Scala"
      ],
      "metadata": {
        "id": "i8DFOgXdNgDb"
      }
    },
    {
      "cell_type": "markdown",
      "source": [
        "## Some of the commonly used libraries used by Data Scientists include:\n",
        " **For Python:**\n",
        " 1. Pandas\n",
        " 2. NumPy\n",
        " 3. Scikit-learn\n",
        " 4. matplotlib\n",
        " 5. keras\n",
        " 6. TensorFlow"
      ],
      "metadata": {
        "id": "Jber0Y5xN-Er"
      }
    },
    {
      "cell_type": "markdown",
      "source": [
        "| Data Science Tools |\n",
        "| ------ |\n",
        "| RStudio |\n",
        "| Apache Spark |\n",
        "| Apache Hadoop |"
      ],
      "metadata": {
        "id": "sX9r0O1uO9nz"
      }
    },
    {
      "cell_type": "markdown",
      "source": [
        "### Below are a few examples of evaluating arithmetic expressions in Python"
      ],
      "metadata": {
        "id": "Rc5GeEA5QFIP"
      }
    },
    {
      "cell_type": "markdown",
      "source": [
        "This a simple arithmetic expression to mutiply then add integers"
      ],
      "metadata": {
        "id": "L_hsBrFxQcQ-"
      }
    },
    {
      "cell_type": "code",
      "source": [
        "(3*4)+5"
      ],
      "metadata": {
        "colab": {
          "base_uri": "https://localhost:8080/"
        },
        "id": "LtQNaLIDPIHv",
        "outputId": "e93e9a69-19da-42ad-e1a9-0fa59916355c"
      },
      "execution_count": null,
      "outputs": [
        {
          "output_type": "execute_result",
          "data": {
            "text/plain": [
              "17"
            ]
          },
          "metadata": {},
          "execution_count": 1
        }
      ]
    },
    {
      "cell_type": "markdown",
      "source": [
        "This will convert 200 minutes to hours by dividing by 60"
      ],
      "metadata": {
        "id": "h5moTYrdQv_R"
      }
    },
    {
      "cell_type": "code",
      "source": [
        "minutes = 200\n",
        "hours = 0\n",
        "while(minutes > 60):\n",
        "  minutes = minutes - 60\n",
        "  hours += 1\n",
        "print(\"There is \"+ str(hours) + \" hours\" +\" and \"+ str(minutes) +\" minutes left\")"
      ],
      "metadata": {
        "colab": {
          "base_uri": "https://localhost:8080/"
        },
        "id": "4rMo4hG0Qvf-",
        "outputId": "b6f5eb90-1248-4bb4-9854-7bdd03a9feaf"
      },
      "execution_count": null,
      "outputs": [
        {
          "output_type": "stream",
          "name": "stdout",
          "text": [
            "There is 3 hours and 20 minutes left\n"
          ]
        }
      ]
    },
    {
      "cell_type": "markdown",
      "source": [
        "## Author\n",
        "Felipe Santos\n"
      ],
      "metadata": {
        "id": "anXbc9K0Udsg"
      }
    }
  ]
}